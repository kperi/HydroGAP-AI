{
 "cells": [
  {
   "cell_type": "code",
   "execution_count": 1,
   "metadata": {},
   "outputs": [],
   "source": [
    "import joblib\n",
    "import pandas as pd\n",
    "\n",
    "station_model_name = \"station_518.pkl\"\n",
    "regressor = joblib.load( station_model_name ) \n",
    " "
   ]
  },
  {
   "cell_type": "code",
   "execution_count": 2,
   "metadata": {},
   "outputs": [],
   "source": [
    "\n",
    "def create_features(df, lags=[1, 2, 3], dropna=True):\n",
    "    \"\"\"\n",
    "    Create lagged features for time series data.\n",
    "\n",
    "    Parameters:\n",
    "    - df (DataFrame): The input DataFrame containing the time series data.\n",
    "    - lags (list): A list of integers representing the lag periods for creating features. Default is [1, 2, 3].\n",
    "    - dropna (bool): Whether to drop rows with missing values after creating features. Default is True.\n",
    "\n",
    "    Returns:\n",
    "    - df_features (DataFrame): The DataFrame with lagged features created from the input data.\n",
    "\n",
    "    \"\"\"\n",
    "\n",
    "    df_features = df.copy()\n",
    "    for lag in lags:\n",
    "        df_features[f\"P_lag_time_{lag}\"] = df_features[\"tp\"].shift(periods=lag)\n",
    "\n",
    "    for lag in lags:\n",
    "        df_features[f\"Q_lag_time_{lag}\"] = df_features[\"obsdis\"].shift(periods=lag)\n",
    "\n",
    "    P_cols = [f\"P_lag_time_{idx}\" for idx in range(1, len(lags) + 1)]\n",
    "    Q_cols = [f\"Q_lag_time_{idx}\" for idx in range(1, len(lags) + 1)]\n",
    "\n",
    "    all_cols = [\"tp\", \"obsdis\"] + P_cols + Q_cols\n",
    "    df_features = df_features[all_cols]\n",
    "\n",
    "    if dropna:\n",
    "        df_features.dropna(inplace=True)\n",
    "\n",
    "    return df_features"
   ]
  },
  {
   "cell_type": "code",
   "execution_count": 50,
   "metadata": {},
   "outputs": [
    {
     "data": {
      "text/html": [
       "<div>\n",
       "<style scoped>\n",
       "    .dataframe tbody tr th:only-of-type {\n",
       "        vertical-align: middle;\n",
       "    }\n",
       "\n",
       "    .dataframe tbody tr th {\n",
       "        vertical-align: top;\n",
       "    }\n",
       "\n",
       "    .dataframe thead th {\n",
       "        text-align: right;\n",
       "    }\n",
       "</style>\n",
       "<table border=\"1\" class=\"dataframe\">\n",
       "  <thead>\n",
       "    <tr style=\"text-align: right;\">\n",
       "      <th></th>\n",
       "      <th>tp</th>\n",
       "      <th>obsdis</th>\n",
       "    </tr>\n",
       "    <tr>\n",
       "      <th>time</th>\n",
       "      <th></th>\n",
       "      <th></th>\n",
       "    </tr>\n",
       "  </thead>\n",
       "  <tbody>\n",
       "    <tr>\n",
       "      <th>2012-06-22</th>\n",
       "      <td>8.432112</td>\n",
       "      <td>128.0</td>\n",
       "    </tr>\n",
       "    <tr>\n",
       "      <th>2012-06-23</th>\n",
       "      <td>0.562295</td>\n",
       "      <td>125.0</td>\n",
       "    </tr>\n",
       "    <tr>\n",
       "      <th>2012-06-24</th>\n",
       "      <td>0.000588</td>\n",
       "      <td>113.0</td>\n",
       "    </tr>\n",
       "    <tr>\n",
       "      <th>2012-06-25</th>\n",
       "      <td>0.314714</td>\n",
       "      <td>104.0</td>\n",
       "    </tr>\n",
       "    <tr>\n",
       "      <th>2012-06-26</th>\n",
       "      <td>2.312112</td>\n",
       "      <td>NaN</td>\n",
       "    </tr>\n",
       "    <tr>\n",
       "      <th>2012-06-27</th>\n",
       "      <td>0.347611</td>\n",
       "      <td>NaN</td>\n",
       "    </tr>\n",
       "  </tbody>\n",
       "</table>\n",
       "</div>"
      ],
      "text/plain": [
       "                  tp  obsdis\n",
       "time                        \n",
       "2012-06-22  8.432112   128.0\n",
       "2012-06-23  0.562295   125.0\n",
       "2012-06-24  0.000588   113.0\n",
       "2012-06-25  0.314714   104.0\n",
       "2012-06-26  2.312112     NaN\n",
       "2012-06-27  0.347611     NaN"
      ]
     },
     "execution_count": 50,
     "metadata": {},
     "output_type": "execute_result"
    }
   ],
   "source": [
    "df = pd.read_parquet(\"../../data/parquet.raw/station_518.0.parquet\")\n",
    "\n",
    "df = df[['tp', 'obsdis']]\n",
    "df_test = df.dropna().tail(6)\n",
    "\n",
    "\n",
    "# create two dummy gaps at the end of the dataframe\n",
    "df_test.loc[df_test.index[-1], 'obsdis'] = None\n",
    "df_test.loc[df_test.index[-2], 'obsdis'] = None\n",
    "df_test"
   ]
  },
  {
   "cell_type": "code",
   "execution_count": 61,
   "metadata": {},
   "outputs": [
    {
     "data": {
      "text/plain": [
       "array([114.65299988,  97.99599991, 111.18200012])"
      ]
     },
     "execution_count": 61,
     "metadata": {},
     "output_type": "execute_result"
    }
   ],
   "source": [
    "def recursive_prediction( regressor, df, num_steps):\n",
    "\n",
    "    for step in range(num_steps):\n",
    "        df_features = create_features(df)\n",
    "        predicted_dis = regressor.predict(df_features.drop(['tp', 'obsdis'], axis=1)) # 114.65299988\n",
    "        #print(  \"predicted_dis:\", predicted_dis, \"step:\", step-num_steps)\n",
    "        df.loc[df.index[step-num_steps], 'obsdis'] = predicted_dis[step]\n",
    "\n",
    "    return predicted_dis\n",
    "\n",
    "recursive_prediction(regressor, df_test, 2)"
   ]
  },
  {
   "cell_type": "code",
   "execution_count": null,
   "metadata": {},
   "outputs": [],
   "source": []
  }
 ],
 "metadata": {
  "kernelspec": {
   "display_name": "py3",
   "language": "python",
   "name": "python3"
  },
  "language_info": {
   "codemirror_mode": {
    "name": "ipython",
    "version": 3
   },
   "file_extension": ".py",
   "mimetype": "text/x-python",
   "name": "python",
   "nbconvert_exporter": "python",
   "pygments_lexer": "ipython3",
   "version": "3.10.13"
  }
 },
 "nbformat": 4,
 "nbformat_minor": 2
}
