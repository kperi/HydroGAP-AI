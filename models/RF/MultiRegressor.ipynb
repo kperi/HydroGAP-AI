{
 "cells": [
  {
   "cell_type": "code",
   "execution_count": 20,
   "id": "3a9d1d6a-31f9-475b-a970-625f5790cb66",
   "metadata": {},
   "outputs": [
    {
     "data": {
      "text/plain": [
       "'2.2.2'"
      ]
     },
     "execution_count": 20,
     "metadata": {},
     "output_type": "execute_result"
    }
   ],
   "source": [
    "import pandas as pd\n",
    "import numpy as np\n",
    "import matplotlib.pyplot as plt\n",
    "from sklearn.ensemble import RandomForestRegressor\n",
    "from sklearn.multioutput import MultiOutputRegressor\n",
    "\n",
    "import tqdm\n",
    "\n",
    "import glob\n",
    "import os\n",
    "\n",
    "\n",
    "NUM_TREES = 100\n",
    "DAYS_AHEAD = 14\n",
    "\n",
    "pd.__version__"
   ]
  },
  {
   "cell_type": "code",
   "execution_count": 21,
   "id": "c5b5464d",
   "metadata": {},
   "outputs": [],
   "source": [
    "def create_features(df, lags=[1, 2, 3], dropna=True):\n",
    "    \"\"\"\n",
    "    Create lagged features for time series data.\n",
    "\n",
    "    Parameters:\n",
    "    - df (DataFrame): The input DataFrame containing the time series data.\n",
    "    - lags (list): A list of integers representing the lag periods for creating features. Default is [1, 2, 3].\n",
    "    - dropna (bool): Whether to drop rows with missing values after creating features. Default is True.\n",
    "\n",
    "    Returns:\n",
    "    - df_features (DataFrame): The DataFrame with lagged features created from the input data.\n",
    "\n",
    "    \"\"\"\n",
    "\n",
    "    df_features = df.copy()\n",
    "    for lag in lags:\n",
    "        df_features[f\"P_lag_time_{lag}\"] = df_features[\"tp\"].shift(periods=lag)\n",
    "\n",
    "    for lag in lags:\n",
    "        df_features[f\"Q_lag_time_{lag}\"] = df_features[\"obsdis\"].shift(periods=lag)\n",
    "\n",
    "    P_cols = [f\"P_lag_time_{idx}\" for idx in range(1, len(lags) + 1)]\n",
    "    Q_cols = [f\"Q_lag_time_{idx}\" for idx in range(1, len(lags) + 1)]\n",
    "\n",
    "    all_cols = [\"tp\", \"obsdis\"] + P_cols + Q_cols\n",
    "    df_features = df_features[all_cols]\n",
    "\n",
    "    if dropna:\n",
    "        df_features.dropna(inplace=True)\n",
    "\n",
    "    return df_features"
   ]
  },
  {
   "cell_type": "code",
   "execution_count": 22,
   "id": "8b1e79de",
   "metadata": {},
   "outputs": [],
   "source": [
    "def create_train_test_splits(df_features, split_ratio=0.8):\n",
    "    \"\"\"\n",
    "    Split the input dataframe into training and testing sets for machine learning modeling.\n",
    "\n",
    "    Parameters:\n",
    "    - df_features (pandas.DataFrame): The input dataframe containing the features and target variable.\n",
    "    - split_ratio (float, optional): The ratio of the dataset to be used for training. Default is 0.8.\n",
    "\n",
    "    Returns:\n",
    "    - x_train (pandas.DataFrame): The training features dataframe.\n",
    "    - y_train (pandas.Series): The training target variable series.\n",
    "    - x_test (pandas.DataFrame): The testing features dataframe.\n",
    "    - y_test (pandas.Series): The testing target variable series.\n",
    "    \"\"\"\n",
    "\n",
    "    df_features = create_features(df_features, lags=[1, 2, 3], dropna=True)\n",
    "    df_features.head()\n",
    "\n",
    "    split_index = int(split_ratio * df_features.shape[0])\n",
    "\n",
    "    trainset = df_features[:split_index]\n",
    "    testset = df_features[split_index:]\n",
    "\n",
    "    x_train = trainset.drop(columns=[\"obsdis\", \"tp\"])\n",
    "    y_train = trainset[\"obsdis\"]\n",
    "\n",
    "    x_test = testset.drop(columns=[\"obsdis\", \"tp\"])\n",
    "    y_test = testset[\"obsdis\"]\n",
    "\n",
    "    return x_train, y_train, x_test, y_test"
   ]
  },
  {
   "cell_type": "code",
   "execution_count": 23,
   "id": "06d0a4b4",
   "metadata": {},
   "outputs": [
    {
     "name": "stderr",
     "output_type": "stream",
     "text": [
      "100%|██████████| 10/10 [00:12<00:00,  1.22s/it]\n"
     ]
    }
   ],
   "source": [
    "files = glob.glob(\"../../gapped_data_contiguous/*.csv\")\n",
    "files = files[0:10]  # just do the fist 10 stations for reference\n",
    "scores = []\n",
    "\n",
    "for file in tqdm.tqdm(files):\n",
    "\n",
    "    df = pd.read_csv(file)\n",
    "    data_filled = df.ffill()\n",
    "\n",
    "    df_features = create_features(df, lags=[1, 2, 3], dropna=True)\n",
    "    x_train, y_train, x_test, y_test = create_train_test_splits(\n",
    "        df_features, split_ratio=0.8\n",
    "    )\n",
    "\n",
    "    rf = RandomForestRegressor(n_estimators=100, random_state=42)\n",
    "    rf.fit(x_train, y_train)\n",
    "\n",
    "    station = os.path.basename(file).split(\"_cleaned\")[0].strip(\".0\")\n",
    "    score = rf.score(x_test, y_test)\n",
    "    scores.append((station, score))\n",
    "     "
   ]
  },
  {
   "cell_type": "code",
   "execution_count": 24,
   "id": "769d682b",
   "metadata": {},
   "outputs": [
    {
     "data": {
      "text/html": [
       "<div>\n",
       "<style scoped>\n",
       "    .dataframe tbody tr th:only-of-type {\n",
       "        vertical-align: middle;\n",
       "    }\n",
       "\n",
       "    .dataframe tbody tr th {\n",
       "        vertical-align: top;\n",
       "    }\n",
       "\n",
       "    .dataframe thead th {\n",
       "        text-align: right;\n",
       "    }\n",
       "</style>\n",
       "<table border=\"1\" class=\"dataframe\">\n",
       "  <thead>\n",
       "    <tr style=\"text-align: right;\">\n",
       "      <th></th>\n",
       "      <th>station</th>\n",
       "      <th>score</th>\n",
       "    </tr>\n",
       "  </thead>\n",
       "  <tbody>\n",
       "    <tr>\n",
       "      <th>2</th>\n",
       "      <td>station_4649</td>\n",
       "      <td>0.907675</td>\n",
       "    </tr>\n",
       "    <tr>\n",
       "      <th>8</th>\n",
       "      <td>station_927</td>\n",
       "      <td>0.909754</td>\n",
       "    </tr>\n",
       "    <tr>\n",
       "      <th>6</th>\n",
       "      <td>station_4649</td>\n",
       "      <td>0.938103</td>\n",
       "    </tr>\n",
       "    <tr>\n",
       "      <th>7</th>\n",
       "      <td>station_1712</td>\n",
       "      <td>0.993407</td>\n",
       "    </tr>\n",
       "    <tr>\n",
       "      <th>5</th>\n",
       "      <td>station_1715</td>\n",
       "      <td>0.994725</td>\n",
       "    </tr>\n",
       "    <tr>\n",
       "      <th>0</th>\n",
       "      <td>station_958</td>\n",
       "      <td>0.995895</td>\n",
       "    </tr>\n",
       "    <tr>\n",
       "      <th>9</th>\n",
       "      <td>station_958</td>\n",
       "      <td>0.996001</td>\n",
       "    </tr>\n",
       "    <tr>\n",
       "      <th>3</th>\n",
       "      <td>station_962</td>\n",
       "      <td>0.996194</td>\n",
       "    </tr>\n",
       "    <tr>\n",
       "      <th>4</th>\n",
       "      <td>station_1718</td>\n",
       "      <td>0.997981</td>\n",
       "    </tr>\n",
       "    <tr>\n",
       "      <th>1</th>\n",
       "      <td>station_1717</td>\n",
       "      <td>0.998032</td>\n",
       "    </tr>\n",
       "  </tbody>\n",
       "</table>\n",
       "</div>"
      ],
      "text/plain": [
       "        station     score\n",
       "2  station_4649  0.907675\n",
       "8   station_927  0.909754\n",
       "6  station_4649  0.938103\n",
       "7  station_1712  0.993407\n",
       "5  station_1715  0.994725\n",
       "0   station_958  0.995895\n",
       "9   station_958  0.996001\n",
       "3   station_962  0.996194\n",
       "4  station_1718  0.997981\n",
       "1  station_1717  0.998032"
      ]
     },
     "execution_count": 24,
     "metadata": {},
     "output_type": "execute_result"
    }
   ],
   "source": [
    "# order scores, worst on top\n",
    "df_scores = pd.DataFrame(scores, columns=[\"station\", \"score\"])\n",
    "df_scores.sort_values(by=\"score\", ascending=True)"
   ]
  },
  {
   "cell_type": "code",
   "execution_count": 42,
   "id": "e3b28c27",
   "metadata": {},
   "outputs": [
    {
     "data": {
      "text/html": [
       "<div>\n",
       "<style scoped>\n",
       "    .dataframe tbody tr th:only-of-type {\n",
       "        vertical-align: middle;\n",
       "    }\n",
       "\n",
       "    .dataframe tbody tr th {\n",
       "        vertical-align: top;\n",
       "    }\n",
       "\n",
       "    .dataframe thead th {\n",
       "        text-align: right;\n",
       "    }\n",
       "</style>\n",
       "<table border=\"1\" class=\"dataframe\">\n",
       "  <thead>\n",
       "    <tr style=\"text-align: right;\">\n",
       "      <th></th>\n",
       "      <th>tp</th>\n",
       "      <th>obsdis</th>\n",
       "      <th>P_lag_time_1</th>\n",
       "      <th>P_lag_time_2</th>\n",
       "      <th>P_lag_time_3</th>\n",
       "      <th>Q_lag_time_1</th>\n",
       "      <th>Q_lag_time_2</th>\n",
       "      <th>Q_lag_time_3</th>\n",
       "      <th>obsdis_1</th>\n",
       "      <th>obsdis_2</th>\n",
       "      <th>...</th>\n",
       "      <th>obsdis_4</th>\n",
       "      <th>obsdis_5</th>\n",
       "      <th>obsdis_6</th>\n",
       "      <th>obsdis_7</th>\n",
       "      <th>obsdis_8</th>\n",
       "      <th>obsdis_9</th>\n",
       "      <th>obsdis_10</th>\n",
       "      <th>obsdis_11</th>\n",
       "      <th>obsdis_12</th>\n",
       "      <th>obsdis_13</th>\n",
       "    </tr>\n",
       "  </thead>\n",
       "  <tbody>\n",
       "    <tr>\n",
       "      <th>3</th>\n",
       "      <td>0.138445</td>\n",
       "      <td>2380.0</td>\n",
       "      <td>0.110283</td>\n",
       "      <td>0.304140</td>\n",
       "      <td>0.744781</td>\n",
       "      <td>2400.0</td>\n",
       "      <td>2420.0</td>\n",
       "      <td>2460.0</td>\n",
       "      <td>2360.0</td>\n",
       "      <td>2350.0</td>\n",
       "      <td>...</td>\n",
       "      <td>2290.0</td>\n",
       "      <td>2270.0</td>\n",
       "      <td>2320.0</td>\n",
       "      <td>2380.0</td>\n",
       "      <td>2440.0</td>\n",
       "      <td>2460.0</td>\n",
       "      <td>2440.0</td>\n",
       "      <td>2390.0</td>\n",
       "      <td>2370.0</td>\n",
       "      <td>2360.0</td>\n",
       "    </tr>\n",
       "    <tr>\n",
       "      <th>4</th>\n",
       "      <td>0.222622</td>\n",
       "      <td>2360.0</td>\n",
       "      <td>0.138445</td>\n",
       "      <td>0.110283</td>\n",
       "      <td>0.304140</td>\n",
       "      <td>2380.0</td>\n",
       "      <td>2400.0</td>\n",
       "      <td>2420.0</td>\n",
       "      <td>2350.0</td>\n",
       "      <td>2320.0</td>\n",
       "      <td>...</td>\n",
       "      <td>2270.0</td>\n",
       "      <td>2320.0</td>\n",
       "      <td>2380.0</td>\n",
       "      <td>2440.0</td>\n",
       "      <td>2460.0</td>\n",
       "      <td>2440.0</td>\n",
       "      <td>2390.0</td>\n",
       "      <td>2370.0</td>\n",
       "      <td>2360.0</td>\n",
       "      <td>2320.0</td>\n",
       "    </tr>\n",
       "    <tr>\n",
       "      <th>5</th>\n",
       "      <td>0.955903</td>\n",
       "      <td>2350.0</td>\n",
       "      <td>0.222622</td>\n",
       "      <td>0.138445</td>\n",
       "      <td>0.110283</td>\n",
       "      <td>2360.0</td>\n",
       "      <td>2380.0</td>\n",
       "      <td>2400.0</td>\n",
       "      <td>2320.0</td>\n",
       "      <td>2290.0</td>\n",
       "      <td>...</td>\n",
       "      <td>2320.0</td>\n",
       "      <td>2380.0</td>\n",
       "      <td>2440.0</td>\n",
       "      <td>2460.0</td>\n",
       "      <td>2440.0</td>\n",
       "      <td>2390.0</td>\n",
       "      <td>2370.0</td>\n",
       "      <td>2360.0</td>\n",
       "      <td>2320.0</td>\n",
       "      <td>2290.0</td>\n",
       "    </tr>\n",
       "    <tr>\n",
       "      <th>6</th>\n",
       "      <td>2.469969</td>\n",
       "      <td>2320.0</td>\n",
       "      <td>0.955903</td>\n",
       "      <td>0.222622</td>\n",
       "      <td>0.138445</td>\n",
       "      <td>2350.0</td>\n",
       "      <td>2360.0</td>\n",
       "      <td>2380.0</td>\n",
       "      <td>2290.0</td>\n",
       "      <td>2270.0</td>\n",
       "      <td>...</td>\n",
       "      <td>2380.0</td>\n",
       "      <td>2440.0</td>\n",
       "      <td>2460.0</td>\n",
       "      <td>2440.0</td>\n",
       "      <td>2390.0</td>\n",
       "      <td>2370.0</td>\n",
       "      <td>2360.0</td>\n",
       "      <td>2320.0</td>\n",
       "      <td>2290.0</td>\n",
       "      <td>2260.0</td>\n",
       "    </tr>\n",
       "    <tr>\n",
       "      <th>7</th>\n",
       "      <td>0.384858</td>\n",
       "      <td>2290.0</td>\n",
       "      <td>2.469969</td>\n",
       "      <td>0.955903</td>\n",
       "      <td>0.222622</td>\n",
       "      <td>2320.0</td>\n",
       "      <td>2350.0</td>\n",
       "      <td>2360.0</td>\n",
       "      <td>2270.0</td>\n",
       "      <td>2320.0</td>\n",
       "      <td>...</td>\n",
       "      <td>2440.0</td>\n",
       "      <td>2460.0</td>\n",
       "      <td>2440.0</td>\n",
       "      <td>2390.0</td>\n",
       "      <td>2370.0</td>\n",
       "      <td>2360.0</td>\n",
       "      <td>2320.0</td>\n",
       "      <td>2290.0</td>\n",
       "      <td>2260.0</td>\n",
       "      <td>2250.0</td>\n",
       "    </tr>\n",
       "  </tbody>\n",
       "</table>\n",
       "<p>5 rows × 21 columns</p>\n",
       "</div>"
      ],
      "text/plain": [
       "         tp  obsdis  P_lag_time_1  P_lag_time_2  P_lag_time_3  Q_lag_time_1  \\\n",
       "3  0.138445  2380.0      0.110283      0.304140      0.744781        2400.0   \n",
       "4  0.222622  2360.0      0.138445      0.110283      0.304140        2380.0   \n",
       "5  0.955903  2350.0      0.222622      0.138445      0.110283        2360.0   \n",
       "6  2.469969  2320.0      0.955903      0.222622      0.138445        2350.0   \n",
       "7  0.384858  2290.0      2.469969      0.955903      0.222622        2320.0   \n",
       "\n",
       "   Q_lag_time_2  Q_lag_time_3  obsdis_1  obsdis_2  ...  obsdis_4  obsdis_5  \\\n",
       "3        2420.0        2460.0    2360.0    2350.0  ...    2290.0    2270.0   \n",
       "4        2400.0        2420.0    2350.0    2320.0  ...    2270.0    2320.0   \n",
       "5        2380.0        2400.0    2320.0    2290.0  ...    2320.0    2380.0   \n",
       "6        2360.0        2380.0    2290.0    2270.0  ...    2380.0    2440.0   \n",
       "7        2350.0        2360.0    2270.0    2320.0  ...    2440.0    2460.0   \n",
       "\n",
       "   obsdis_6  obsdis_7  obsdis_8  obsdis_9  obsdis_10  obsdis_11  obsdis_12  \\\n",
       "3    2320.0    2380.0    2440.0    2460.0     2440.0     2390.0     2370.0   \n",
       "4    2380.0    2440.0    2460.0    2440.0     2390.0     2370.0     2360.0   \n",
       "5    2440.0    2460.0    2440.0    2390.0     2370.0     2360.0     2320.0   \n",
       "6    2460.0    2440.0    2390.0    2370.0     2360.0     2320.0     2290.0   \n",
       "7    2440.0    2390.0    2370.0    2360.0     2320.0     2290.0     2260.0   \n",
       "\n",
       "   obsdis_13  \n",
       "3     2360.0  \n",
       "4     2320.0  \n",
       "5     2290.0  \n",
       "6     2260.0  \n",
       "7     2250.0  \n",
       "\n",
       "[5 rows x 21 columns]"
      ]
     },
     "execution_count": 42,
     "metadata": {},
     "output_type": "execute_result"
    }
   ],
   "source": [
    "df_features.head()"
   ]
  },
  {
   "cell_type": "code",
   "execution_count": 43,
   "id": "9dc54fca",
   "metadata": {},
   "outputs": [],
   "source": [
    "\n",
    "for i in range(DAYS_AHEAD-1):  # 5+1 days forecast\n",
    "    df_features[f\"obsdis_{i+1}\"] = df_features.obsdis.shift(-1*(i+1))\n",
    "\n",
    "df_features.dropna(inplace=True)"
   ]
  },
  {
   "cell_type": "code",
   "execution_count": 44,
   "id": "55a3ec04",
   "metadata": {},
   "outputs": [
    {
     "data": {
      "text/plain": [
       "(5439, 21)"
      ]
     },
     "execution_count": 44,
     "metadata": {},
     "output_type": "execute_result"
    }
   ],
   "source": [
    "df_features.shape"
   ]
  },
  {
   "cell_type": "code",
   "execution_count": null,
   "id": "9b3b14a2",
   "metadata": {},
   "outputs": [],
   "source": []
  },
  {
   "cell_type": "code",
   "execution_count": 45,
   "id": "1c7895ef",
   "metadata": {},
   "outputs": [
    {
     "data": {
      "text/plain": [
       "((4351, 6), (1088, 6), (4351, 14), (1088, 14))"
      ]
     },
     "execution_count": 45,
     "metadata": {},
     "output_type": "execute_result"
    }
   ],
   "source": [
    "X = df_features[\n",
    "    [\n",
    "        \"P_lag_time_1\",\n",
    "        \"P_lag_time_2\",\n",
    "        \"P_lag_time_3\",\n",
    "        \"Q_lag_time_1\",\n",
    "        \"Q_lag_time_2\",\n",
    "        \"Q_lag_time_3\",\n",
    "    ]\n",
    "]\n",
    "\n",
    "target_columns = [ \"obsdis\"] + [f\"obsdis_{i}\" for i in range(1, DAYS_AHEAD)]\n",
    "targets = df_features[target_columns]\n",
    "\n",
    "cut_off = int(targets.shape[0] * 0.8)\n",
    "\n",
    "mo_train_x = X[0:cut_off]\n",
    "mo_train_y = targets[0:cut_off]\n",
    "\n",
    "\n",
    "mo_test_x = X[cut_off:]\n",
    "mo_test_y = targets[cut_off:]\n",
    "\n",
    "\n",
    "mo_train_x.shape, mo_test_x.shape, mo_train_y.shape, mo_test_y.shape"
   ]
  },
  {
   "cell_type": "code",
   "execution_count": 46,
   "id": "69de04d4",
   "metadata": {},
   "outputs": [],
   "source": [
    "multioutputregressor = MultiOutputRegressor(\n",
    "    RandomForestRegressor(n_estimators=100, random_state=42)\n",
    ").fit(mo_train_x, mo_train_y)"
   ]
  },
  {
   "cell_type": "code",
   "execution_count": 47,
   "id": "4b0b78a1",
   "metadata": {},
   "outputs": [
    {
     "data": {
      "text/plain": [
       "0.8956160194057989"
      ]
     },
     "execution_count": 47,
     "metadata": {},
     "output_type": "execute_result"
    }
   ],
   "source": [
    "multioutputregressor.score(mo_test_x, mo_test_y)"
   ]
  },
  {
   "cell_type": "code",
   "execution_count": 48,
   "id": "bc84b9bd",
   "metadata": {},
   "outputs": [
    {
     "data": {
      "text/plain": [
       "(1088, 14)"
      ]
     },
     "execution_count": 48,
     "metadata": {},
     "output_type": "execute_result"
    }
   ],
   "source": [
    "predictions = multioutputregressor.predict(mo_test_x)\n",
    "\n",
    "predictions.shape"
   ]
  },
  {
   "cell_type": "code",
   "execution_count": 49,
   "id": "080230d3",
   "metadata": {},
   "outputs": [
    {
     "data": {
      "text/plain": [
       "(array([2954.7, 2920.3, 2896.6, 2854.4, 2839.6, 2812.8, 2783.8, 2780.3,\n",
       "        2767.6, 2779.5, 2731.3, 2699.9, 2678.1, 2661.3]),\n",
       " obsdis       2990.0\n",
       " obsdis_1     2950.0\n",
       " obsdis_2     2950.0\n",
       " obsdis_3     2910.0\n",
       " obsdis_4     2890.0\n",
       " obsdis_5     2870.0\n",
       " obsdis_6     2850.0\n",
       " obsdis_7     2820.0\n",
       " obsdis_8     2810.0\n",
       " obsdis_9     2780.0\n",
       " obsdis_10    2710.0\n",
       " obsdis_11    2540.0\n",
       " obsdis_12    2490.0\n",
       " obsdis_13    2470.0\n",
       " Name: 4365, dtype: float64)"
      ]
     },
     "execution_count": 49,
     "metadata": {},
     "output_type": "execute_result"
    }
   ],
   "source": [
    "predictions[1], mo_test_y.iloc[1]"
   ]
  },
  {
   "cell_type": "code",
   "execution_count": null,
   "id": "df9c8ef9",
   "metadata": {},
   "outputs": [],
   "source": []
  }
 ],
 "metadata": {
  "kernelspec": {
   "display_name": "Python 3 (ipykernel)",
   "language": "python",
   "name": "python3"
  },
  "language_info": {
   "codemirror_mode": {
    "name": "ipython",
    "version": 3
   },
   "file_extension": ".py",
   "mimetype": "text/x-python",
   "name": "python",
   "nbconvert_exporter": "python",
   "pygments_lexer": "ipython3",
   "version": "3.10.13"
  }
 },
 "nbformat": 4,
 "nbformat_minor": 5
}
