{
 "cells": [
  {
   "cell_type": "code",
   "execution_count": 20,
   "id": "3a9d1d6a-31f9-475b-a970-625f5790cb66",
   "metadata": {},
   "outputs": [
    {
     "data": {
      "text/plain": [
       "'2.2.2'"
      ]
     },
     "execution_count": 20,
     "metadata": {},
     "output_type": "execute_result"
    }
   ],
   "source": [
    "import pandas as pd\n",
    "import numpy as np\n",
    "import matplotlib.pyplot as plt\n",
    "from sklearn.ensemble import RandomForestRegressor\n",
    "from sklearn.multioutput import MultiOutputRegressor\n",
    "\n",
    "import tqdm\n",
    "\n",
    "import glob\n",
    "import os\n",
    "\n",
    "\n",
    "NUM_TREES = 100\n",
    "DAYS_AHEAD = 14\n",
    "\n",
    "pd.__version__"
   ]
  },
  {
   "cell_type": "code",
   "execution_count": 21,
   "id": "c5b5464d",
   "metadata": {},
   "outputs": [],
   "source": [
    "def create_features(df, lags=[1, 2, 3], dropna=True):\n",
    "    \"\"\"\n",
    "    Create lagged features for time series data.\n",
    "\n",
    "    Parameters:\n",
    "    - df (DataFrame): The input DataFrame containing the time series data.\n",
    "    - lags (list): A list of integers representing the lag periods for creating features. Default is [1, 2, 3].\n",
    "    - dropna (bool): Whether to drop rows with missing values after creating features. Default is True.\n",
    "\n",
    "    Returns:\n",
    "    - df_features (DataFrame): The DataFrame with lagged features created from the input data.\n",
    "\n",
    "    \"\"\"\n",
    "\n",
    "    df_features = df.copy()\n",
    "    for lag in lags:\n",
    "        df_features[f\"P_lag_time_{lag}\"] = df_features[\"tp\"].shift(periods=lag)\n",
    "\n",
    "    for lag in lags:\n",
    "        df_features[f\"Q_lag_time_{lag}\"] = df_features[\"obsdis\"].shift(periods=lag)\n",
    "\n",
    "    P_cols = [f\"P_lag_time_{idx}\" for idx in range(1, len(lags) + 1)]\n",
    "    Q_cols = [f\"Q_lag_time_{idx}\" for idx in range(1, len(lags) + 1)]\n",
    "\n",
    "    all_cols = [\"tp\", \"obsdis\"] + P_cols + Q_cols\n",
    "    df_features = df_features[all_cols]\n",
    "\n",
    "    if dropna:\n",
    "        df_features.dropna(inplace=True)\n",
    "\n",
    "    return df_features"
   ]
  },
  {
   "cell_type": "code",
   "execution_count": 22,
   "id": "8b1e79de",
   "metadata": {},
   "outputs": [],
   "source": [
    "def create_train_test_splits(df_features, split_ratio=0.8):\n",
    "    \"\"\"\n",
    "    Split the input dataframe into training and testing sets for machine learning modeling.\n",
    "\n",
    "    Parameters:\n",
    "    - df_features (pandas.DataFrame): The input dataframe containing the features and target variable.\n",
    "    - split_ratio (float, optional): The ratio of the dataset to be used for training. Default is 0.8.\n",
    "\n",
    "    Returns:\n",
    "    - x_train (pandas.DataFrame): The training features dataframe.\n",
    "    - y_train (pandas.Series): The training target variable series.\n",
    "    - x_test (pandas.DataFrame): The testing features dataframe.\n",
    "    - y_test (pandas.Series): The testing target variable series.\n",
    "    \"\"\"\n",
    "\n",
    "    df_features = create_features(df_features, lags=[1, 2, 3], dropna=True)\n",
    "    df_features.head()\n",
    "\n",
    "    split_index = int(split_ratio * df_features.shape[0])\n",
    "\n",
    "    trainset = df_features[:split_index]\n",
    "    testset = df_features[split_index:]\n",
    "\n",
    "    x_train = trainset.drop(columns=[\"obsdis\", \"tp\"])\n",
    "    y_train = trainset[\"obsdis\"]\n",
    "\n",
    "    x_test = testset.drop(columns=[\"obsdis\", \"tp\"])\n",
    "    y_test = testset[\"obsdis\"]\n",
    "\n",
    "    return x_train, y_train, x_test, y_test"
   ]
  },
  {
   "cell_type": "code",
   "execution_count": 23,
   "id": "06d0a4b4",
   "metadata": {},
   "outputs": [
    {
     "name": "stderr",
     "output_type": "stream",
     "text": [
      "100%|██████████| 10/10 [00:12<00:00,  1.22s/it]\n"
     ]
    }
   ],
   "source": [
    "files = glob.glob(\"../../gapped_data_contiguous/*.csv\")\n",
    "files = files[0:10]  # just do the fist 10 stations for reference\n",
    "scores = []\n",
    "\n",
    "for file in tqdm.tqdm(files):\n",
    "\n",
    "    df = pd.read_csv(file)\n",
    "    data_filled = df.ffill()\n",
    "\n",
    "    df_features = create_features(df, lags=[1, 2, 3], dropna=True)\n",
    "    x_train, y_train, x_test, y_test = create_train_test_splits(\n",
    "        df_features, split_ratio=0.8\n",
    "    )\n",
    "\n",
    "    rf = RandomForestRegressor(n_estimators=100, random_state=42)\n",
    "    rf.fit(x_train, y_train)\n",
    "\n",
    "    station = os.path.basename(file).split(\"_cleaned\")[0].strip(\".0\")\n",
    "    score = rf.score(x_test, y_test)\n",
    "    scores.append((station, score))\n",
    "     "
   ]
  },
  {
   "cell_type": "code",
   "execution_count": 24,
   "id": "769d682b",
   "metadata": {},
   "outputs": [
    {
     "data": {
      "text/html": [
       "<div>\n",
       "<style scoped>\n",
       "    .dataframe tbody tr th:only-of-type {\n",
       "        vertical-align: middle;\n",
       "    }\n",
       "\n",
       "    .dataframe tbody tr th {\n",
       "        vertical-align: top;\n",
       "    }\n",
       "\n",
       "    .dataframe thead th {\n",
       "        text-align: right;\n",
       "    }\n",
       "</style>\n",
       "<table border=\"1\" class=\"dataframe\">\n",
       "  <thead>\n",
       "    <tr style=\"text-align: right;\">\n",
       "      <th></th>\n",
       "      <th>station</th>\n",
       "      <th>score</th>\n",
       "    </tr>\n",
       "  </thead>\n",
       "  <tbody>\n",
       "    <tr>\n",
       "      <th>2</th>\n",
       "      <td>station_4649</td>\n",
       "      <td>0.907675</td>\n",
       "    </tr>\n",
       "    <tr>\n",
       "      <th>8</th>\n",
       "      <td>station_927</td>\n",
       "      <td>0.909754</td>\n",
       "    </tr>\n",
       "    <tr>\n",
       "      <th>6</th>\n",
       "      <td>station_4649</td>\n",
       "      <td>0.938103</td>\n",
       "    </tr>\n",
       "    <tr>\n",
       "      <th>7</th>\n",
       "      <td>station_1712</td>\n",
       "      <td>0.993407</td>\n",
       "    </tr>\n",
       "    <tr>\n",
       "      <th>5</th>\n",
       "      <td>station_1715</td>\n",
       "      <td>0.994725</td>\n",
       "    </tr>\n",
       "    <tr>\n",
       "      <th>0</th>\n",
       "      <td>station_958</td>\n",
       "      <td>0.995895</td>\n",
       "    </tr>\n",
       "    <tr>\n",
       "      <th>9</th>\n",
       "      <td>station_958</td>\n",
       "      <td>0.996001</td>\n",
       "    </tr>\n",
       "    <tr>\n",
       "      <th>3</th>\n",
       "      <td>station_962</td>\n",
       "      <td>0.996194</td>\n",
       "    </tr>\n",
       "    <tr>\n",
       "      <th>4</th>\n",
       "      <td>station_1718</td>\n",
       "      <td>0.997981</td>\n",
       "    </tr>\n",
       "    <tr>\n",
       "      <th>1</th>\n",
       "      <td>station_1717</td>\n",
       "      <td>0.998032</td>\n",
       "    </tr>\n",
       "  </tbody>\n",
       "</table>\n",
       "</div>"
      ],
      "text/plain": [
       "        station     score\n",
       "2  station_4649  0.907675\n",
       "8   station_927  0.909754\n",
       "6  station_4649  0.938103\n",
       "7  station_1712  0.993407\n",
       "5  station_1715  0.994725\n",
       "0   station_958  0.995895\n",
       "9   station_958  0.996001\n",
       "3   station_962  0.996194\n",
       "4  station_1718  0.997981\n",
       "1  station_1717  0.998032"
      ]
     },
     "execution_count": 24,
     "metadata": {},
     "output_type": "execute_result"
    }
   ],
   "source": [
    "# order scores, worst on top\n",
    "df_scores = pd.DataFrame(scores, columns=[\"station\", \"score\"])\n",
    "df_scores.sort_values(by=\"score\", ascending=True)"
   ]
  },
  {
   "cell_type": "code",
   "execution_count": 25,
   "id": "9dc54fca",
   "metadata": {},
   "outputs": [],
   "source": [
    "\n",
    "for i in range(DAYS_AHEAD-1):  # 5+1 days forecast\n",
    "    df_features[f\"obsdis_{i+1}\"] = df_features.obsdis.shift(-1)\n",
    "\n",
    "df_features.dropna(inplace=True)"
   ]
  },
  {
   "cell_type": "code",
   "execution_count": 26,
   "id": "55a3ec04",
   "metadata": {},
   "outputs": [
    {
     "data": {
      "text/plain": [
       "(5465, 21)"
      ]
     },
     "execution_count": 26,
     "metadata": {},
     "output_type": "execute_result"
    }
   ],
   "source": [
    "df_features.shape"
   ]
  },
  {
   "cell_type": "code",
   "execution_count": 14,
   "id": "9b3b14a2",
   "metadata": {},
   "outputs": [],
   "source": []
  },
  {
   "cell_type": "code",
   "execution_count": 29,
   "id": "1c7895ef",
   "metadata": {},
   "outputs": [
    {
     "data": {
      "text/plain": [
       "((4372, 6), (1093, 6), (4372, 14), (1093, 14))"
      ]
     },
     "execution_count": 29,
     "metadata": {},
     "output_type": "execute_result"
    }
   ],
   "source": [
    "X = df_features[\n",
    "    [\n",
    "        \"P_lag_time_1\",\n",
    "        \"P_lag_time_2\",\n",
    "        \"P_lag_time_3\",\n",
    "        \"Q_lag_time_1\",\n",
    "        \"Q_lag_time_2\",\n",
    "        \"Q_lag_time_3\",\n",
    "    ]\n",
    "]\n",
    "\n",
    "target_columns = [ \"obsdis\"] + [f\"obsdis_{i}\" for i in range(1, DAYS_AHEAD)]\n",
    "targets = df_features[target_columns]\n",
    "\n",
    "cut_off = int(targets.shape[0] * 0.8)\n",
    "\n",
    "mo_train_x = X[0:cut_off]\n",
    "mo_train_y = targets[0:cut_off]\n",
    "\n",
    "\n",
    "mo_test_x = X[cut_off:]\n",
    "mo_test_y = targets[cut_off:]\n",
    "\n",
    "\n",
    "mo_train_x.shape, mo_test_x.shape, mo_train_y.shape, mo_test_y.shape"
   ]
  },
  {
   "cell_type": "code",
   "execution_count": 30,
   "id": "69de04d4",
   "metadata": {},
   "outputs": [],
   "source": [
    "multioutputregressor = MultiOutputRegressor(\n",
    "    RandomForestRegressor(n_estimators=100, random_state=42)\n",
    ").fit(mo_train_x, mo_train_y)"
   ]
  },
  {
   "cell_type": "code",
   "execution_count": 31,
   "id": "4b0b78a1",
   "metadata": {},
   "outputs": [
    {
     "data": {
      "text/plain": [
       "0.9859352822110801"
      ]
     },
     "execution_count": 31,
     "metadata": {},
     "output_type": "execute_result"
    }
   ],
   "source": [
    "multioutputregressor.score(mo_test_x, mo_test_y)"
   ]
  },
  {
   "cell_type": "code",
   "execution_count": 35,
   "id": "bc84b9bd",
   "metadata": {},
   "outputs": [
    {
     "data": {
      "text/plain": [
       "(1093, 14)"
      ]
     },
     "execution_count": 35,
     "metadata": {},
     "output_type": "execute_result"
    }
   ],
   "source": [
    "predictions = multioutputregressor.predict(mo_test_x)\n",
    "\n",
    "predictions.shape"
   ]
  },
  {
   "cell_type": "code",
   "execution_count": 38,
   "id": "080230d3",
   "metadata": {},
   "outputs": [
    {
     "data": {
      "text/plain": [
       "array([2316.4, 2280.9, 2280.9, 2280.9, 2280.9, 2280.9, 2280.9, 2280.9,\n",
       "       2280.9, 2280.9, 2280.9, 2280.9, 2280.9, 2280.9])"
      ]
     },
     "execution_count": 38,
     "metadata": {},
     "output_type": "execute_result"
    }
   ],
   "source": [
    "predictions[1]"
   ]
  },
  {
   "cell_type": "code",
   "execution_count": null,
   "id": "df9c8ef9",
   "metadata": {},
   "outputs": [],
   "source": []
  }
 ],
 "metadata": {
  "kernelspec": {
   "display_name": "Python 3 (ipykernel)",
   "language": "python",
   "name": "python3"
  },
  "language_info": {
   "codemirror_mode": {
    "name": "ipython",
    "version": 3
   },
   "file_extension": ".py",
   "mimetype": "text/x-python",
   "name": "python",
   "nbconvert_exporter": "python",
   "pygments_lexer": "ipython3",
   "version": "3.10.13"
  }
 },
 "nbformat": 4,
 "nbformat_minor": 5
}
