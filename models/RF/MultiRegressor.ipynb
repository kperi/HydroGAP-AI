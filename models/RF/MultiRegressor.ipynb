{
 "cells": [
  {
   "cell_type": "code",
   "execution_count": 11,
   "id": "3a9d1d6a-31f9-475b-a970-625f5790cb66",
   "metadata": {},
   "outputs": [
    {
     "data": {
      "text/plain": [
       "'2.2.2'"
      ]
     },
     "execution_count": 11,
     "metadata": {},
     "output_type": "execute_result"
    }
   ],
   "source": [
    "import pandas as pd\n",
    "import numpy as np\n",
    "import matplotlib.pyplot as plt\n",
    "from sklearn.ensemble import RandomForestRegressor\n",
    "from sklearn.multioutput import MultiOutputRegressor\n",
    "\n",
    "import tqdm\n",
    "\n",
    "import glob\n",
    "import os\n",
    "\n",
    "\n",
    "NUM_TREES = 100\n",
    "DAYS_AHEAD = 14\n",
    "\n",
    "pd.__version__"
   ]
  },
  {
   "cell_type": "code",
   "execution_count": 12,
   "id": "c5b5464d",
   "metadata": {},
   "outputs": [],
   "source": [
    "def create_features(df, lags=[1, 2, 3], dropna=True):\n",
    "    \"\"\"\n",
    "    Create lagged features for time series data.\n",
    "\n",
    "    Parameters:\n",
    "    - df (DataFrame): The input DataFrame containing the time series data.\n",
    "    - lags (list): A list of integers representing the lag periods for creating features. Default is [1, 2, 3].\n",
    "    - dropna (bool): Whether to drop rows with missing values after creating features. Default is True.\n",
    "\n",
    "    Returns:\n",
    "    - df_features (DataFrame): The DataFrame with lagged features created from the input data.\n",
    "\n",
    "    \"\"\"\n",
    "\n",
    "    df_features = df.copy()\n",
    "    for lag in lags:\n",
    "        df_features[f\"P_lag_time_{lag}\"] = df_features[\"tp\"].shift(periods=lag)\n",
    "\n",
    "    for lag in lags:\n",
    "        df_features[f\"Q_lag_time_{lag}\"] = df_features[\"obsdis\"].shift(periods=lag)\n",
    "\n",
    "    P_cols = [f\"P_lag_time_{idx}\" for idx in range(1, len(lags) + 1)]\n",
    "    Q_cols = [f\"Q_lag_time_{idx}\" for idx in range(1, len(lags) + 1)]\n",
    "\n",
    "    all_cols = [\"tp\", \"obsdis\"] + P_cols + Q_cols\n",
    "    df_features = df_features[all_cols]\n",
    "\n",
    "    if dropna:\n",
    "        df_features.dropna(inplace=True)\n",
    "\n",
    "    return df_features"
   ]
  },
  {
   "cell_type": "code",
   "execution_count": 13,
   "id": "8b1e79de",
   "metadata": {},
   "outputs": [],
   "source": [
    "def create_train_test_splits(df_features, split_ratio=0.8):\n",
    "    \"\"\"\n",
    "    Split the input dataframe into training and testing sets for machine learning modeling.\n",
    "\n",
    "    Parameters:\n",
    "    - df_features (pandas.DataFrame): The input dataframe containing the features and target variable.\n",
    "    - split_ratio (float, optional): The ratio of the dataset to be used for training. Default is 0.8.\n",
    "\n",
    "    Returns:\n",
    "    - x_train (pandas.DataFrame): The training features dataframe.\n",
    "    - y_train (pandas.Series): The training target variable series.\n",
    "    - x_test (pandas.DataFrame): The testing features dataframe.\n",
    "    - y_test (pandas.Series): The testing target variable series.\n",
    "    \"\"\"\n",
    "\n",
    "    df_features = create_features(df_features, lags=[1, 2, 3], dropna=True)\n",
    "    df_features.head()\n",
    "\n",
    "    split_index = int(split_ratio * df_features.shape[0])\n",
    "\n",
    "    trainset = df_features[:split_index]\n",
    "    testset = df_features[split_index:]\n",
    "\n",
    "    x_train = trainset.drop(columns=[\"obsdis\", \"tp\"])\n",
    "    y_train = trainset[\"obsdis\"]\n",
    "\n",
    "    x_test = testset.drop(columns=[\"obsdis\", \"tp\"])\n",
    "    y_test = testset[\"obsdis\"]\n",
    "\n",
    "    return x_train, y_train, x_test, y_test"
   ]
  },
  {
   "cell_type": "code",
   "execution_count": 14,
   "id": "06d0a4b4",
   "metadata": {},
   "outputs": [
    {
     "name": "stderr",
     "output_type": "stream",
     "text": [
      "  0%|          | 0/10 [00:00<?, ?it/s]"
     ]
    },
    {
     "name": "stderr",
     "output_type": "stream",
     "text": [
      "  0%|          | 0/10 [00:01<?, ?it/s]\n"
     ]
    }
   ],
   "source": [
    "files = glob.glob(\"../../gapped_data_contiguous/*.csv\")\n",
    "files = files[0:10]  # just do the fist 10 stations for reference\n",
    "scores = []\n",
    "\n",
    "for file in tqdm.tqdm(files):\n",
    "\n",
    "    df = pd.read_csv(file)\n",
    "    data_filled = df.ffill()\n",
    "\n",
    "    df_features = create_features(df, lags=[1, 2, 3], dropna=True)\n",
    "    x_train, y_train, x_test, y_test = create_train_test_splits(\n",
    "        df_features, split_ratio=0.8\n",
    "    )\n",
    "\n",
    "    rf = RandomForestRegressor(n_estimators=100, random_state=42)\n",
    "    rf.fit(x_train, y_train)\n",
    "\n",
    "    station = os.path.basename(file).split(\"_cleaned\")[0].strip(\".0\")\n",
    "    score = rf.score(x_test, y_test)\n",
    "    scores.append((station, score))\n",
    "    break\n",
    "     "
   ]
  },
  {
   "cell_type": "code",
   "execution_count": 18,
   "id": "9dc54fca",
   "metadata": {},
   "outputs": [],
   "source": [
    "df_features = create_features(df, lags=[1, 2, 3], dropna=True)\n",
    "    \n",
    "\n",
    "for i in range(DAYS_AHEAD-1):  # 5+1 days forecast\n",
    "    df_features[f\"obsdis_{i+1}\"] = df_features.obsdis.shift(-1*(i+1))\n",
    "\n",
    "df_features.dropna(inplace=True)"
   ]
  },
  {
   "cell_type": "code",
   "execution_count": 19,
   "id": "1c7895ef",
   "metadata": {},
   "outputs": [
    {
     "data": {
      "text/plain": [
       "((4356, 6), (1090, 6), (4356, 14), (1090, 14))"
      ]
     },
     "execution_count": 19,
     "metadata": {},
     "output_type": "execute_result"
    }
   ],
   "source": [
    "X = df_features[\n",
    "    [\n",
    "        \"P_lag_time_1\",\n",
    "        \"P_lag_time_2\",\n",
    "        \"P_lag_time_3\",\n",
    "        \"Q_lag_time_1\",\n",
    "        \"Q_lag_time_2\",\n",
    "        \"Q_lag_time_3\",\n",
    "    ]\n",
    "]\n",
    "\n",
    "target_columns = [ \"obsdis\"] + [f\"obsdis_{i}\" for i in range(1, DAYS_AHEAD)]\n",
    "targets = df_features[target_columns]\n",
    "\n",
    "cut_off = int(targets.shape[0] * 0.8)\n",
    "\n",
    "mo_train_x = X[0:cut_off]\n",
    "mo_train_y = targets[0:cut_off]\n",
    "\n",
    "\n",
    "mo_test_x = X[cut_off:]\n",
    "mo_test_y = targets[cut_off:]\n",
    "\n",
    "\n",
    "mo_train_x.shape, mo_test_x.shape, mo_train_y.shape, mo_test_y.shape"
   ]
  },
  {
   "cell_type": "code",
   "execution_count": 20,
   "id": "69de04d4",
   "metadata": {},
   "outputs": [],
   "source": [
    "multioutputregressor = MultiOutputRegressor(\n",
    "    RandomForestRegressor(n_estimators=100, random_state=42)\n",
    ").fit(mo_train_x, mo_train_y)"
   ]
  },
  {
   "cell_type": "code",
   "execution_count": 21,
   "id": "4b0b78a1",
   "metadata": {},
   "outputs": [
    {
     "data": {
      "text/plain": [
       "0.8952165433463187"
      ]
     },
     "execution_count": 21,
     "metadata": {},
     "output_type": "execute_result"
    }
   ],
   "source": [
    "multioutputregressor.score(mo_test_x, mo_test_y)"
   ]
  },
  {
   "cell_type": "code",
   "execution_count": 48,
   "id": "bc84b9bd",
   "metadata": {},
   "outputs": [
    {
     "data": {
      "text/plain": [
       "(1088, 14)"
      ]
     },
     "execution_count": 48,
     "metadata": {},
     "output_type": "execute_result"
    }
   ],
   "source": [
    "predictions = multioutputregressor.predict(mo_test_x)\n",
    "\n",
    "predictions.shape"
   ]
  },
  {
   "cell_type": "code",
   "execution_count": 49,
   "id": "080230d3",
   "metadata": {},
   "outputs": [
    {
     "data": {
      "text/plain": [
       "(array([2954.7, 2920.3, 2896.6, 2854.4, 2839.6, 2812.8, 2783.8, 2780.3,\n",
       "        2767.6, 2779.5, 2731.3, 2699.9, 2678.1, 2661.3]),\n",
       " obsdis       2990.0\n",
       " obsdis_1     2950.0\n",
       " obsdis_2     2950.0\n",
       " obsdis_3     2910.0\n",
       " obsdis_4     2890.0\n",
       " obsdis_5     2870.0\n",
       " obsdis_6     2850.0\n",
       " obsdis_7     2820.0\n",
       " obsdis_8     2810.0\n",
       " obsdis_9     2780.0\n",
       " obsdis_10    2710.0\n",
       " obsdis_11    2540.0\n",
       " obsdis_12    2490.0\n",
       " obsdis_13    2470.0\n",
       " Name: 4365, dtype: float64)"
      ]
     },
     "execution_count": 49,
     "metadata": {},
     "output_type": "execute_result"
    }
   ],
   "source": [
    "predictions[1], mo_test_y.iloc[1]"
   ]
  },
  {
   "cell_type": "code",
   "execution_count": 22,
   "id": "3ce8ccd2",
   "metadata": {},
   "outputs": [
    {
     "data": {
      "text/html": [
       "<div>\n",
       "<style scoped>\n",
       "    .dataframe tbody tr th:only-of-type {\n",
       "        vertical-align: middle;\n",
       "    }\n",
       "\n",
       "    .dataframe tbody tr th {\n",
       "        vertical-align: top;\n",
       "    }\n",
       "\n",
       "    .dataframe thead th {\n",
       "        text-align: right;\n",
       "    }\n",
       "</style>\n",
       "<table border=\"1\" class=\"dataframe\">\n",
       "  <thead>\n",
       "    <tr style=\"text-align: right;\">\n",
       "      <th></th>\n",
       "      <th>P_lag_time_1</th>\n",
       "      <th>P_lag_time_2</th>\n",
       "      <th>P_lag_time_3</th>\n",
       "      <th>Q_lag_time_1</th>\n",
       "      <th>Q_lag_time_2</th>\n",
       "      <th>Q_lag_time_3</th>\n",
       "    </tr>\n",
       "  </thead>\n",
       "  <tbody>\n",
       "    <tr>\n",
       "      <th>4376</th>\n",
       "      <td>0.488605</td>\n",
       "      <td>1.240209</td>\n",
       "      <td>2.199107</td>\n",
       "      <td>2710.0</td>\n",
       "      <td>2780.0</td>\n",
       "      <td>2810.0</td>\n",
       "    </tr>\n",
       "    <tr>\n",
       "      <th>4377</th>\n",
       "      <td>0.179818</td>\n",
       "      <td>0.488605</td>\n",
       "      <td>1.240209</td>\n",
       "      <td>2540.0</td>\n",
       "      <td>2710.0</td>\n",
       "      <td>2780.0</td>\n",
       "    </tr>\n",
       "    <tr>\n",
       "      <th>4378</th>\n",
       "      <td>0.200976</td>\n",
       "      <td>0.179818</td>\n",
       "      <td>0.488605</td>\n",
       "      <td>2490.0</td>\n",
       "      <td>2540.0</td>\n",
       "      <td>2710.0</td>\n",
       "    </tr>\n",
       "    <tr>\n",
       "      <th>4379</th>\n",
       "      <td>0.138875</td>\n",
       "      <td>0.200976</td>\n",
       "      <td>0.179818</td>\n",
       "      <td>2470.0</td>\n",
       "      <td>2490.0</td>\n",
       "      <td>2540.0</td>\n",
       "    </tr>\n",
       "    <tr>\n",
       "      <th>4380</th>\n",
       "      <td>0.155483</td>\n",
       "      <td>0.138875</td>\n",
       "      <td>0.200976</td>\n",
       "      <td>2460.0</td>\n",
       "      <td>2470.0</td>\n",
       "      <td>2490.0</td>\n",
       "    </tr>\n",
       "    <tr>\n",
       "      <th>...</th>\n",
       "      <td>...</td>\n",
       "      <td>...</td>\n",
       "      <td>...</td>\n",
       "      <td>...</td>\n",
       "      <td>...</td>\n",
       "      <td>...</td>\n",
       "    </tr>\n",
       "    <tr>\n",
       "      <th>5461</th>\n",
       "      <td>0.535394</td>\n",
       "      <td>0.504948</td>\n",
       "      <td>0.464211</td>\n",
       "      <td>2580.0</td>\n",
       "      <td>2600.0</td>\n",
       "      <td>2630.0</td>\n",
       "    </tr>\n",
       "    <tr>\n",
       "      <th>5462</th>\n",
       "      <td>0.863708</td>\n",
       "      <td>0.535394</td>\n",
       "      <td>0.504948</td>\n",
       "      <td>2550.0</td>\n",
       "      <td>2580.0</td>\n",
       "      <td>2600.0</td>\n",
       "    </tr>\n",
       "    <tr>\n",
       "      <th>5463</th>\n",
       "      <td>1.037927</td>\n",
       "      <td>0.863708</td>\n",
       "      <td>0.535394</td>\n",
       "      <td>2530.0</td>\n",
       "      <td>2550.0</td>\n",
       "      <td>2580.0</td>\n",
       "    </tr>\n",
       "    <tr>\n",
       "      <th>5464</th>\n",
       "      <td>1.367421</td>\n",
       "      <td>1.037927</td>\n",
       "      <td>0.863708</td>\n",
       "      <td>2490.0</td>\n",
       "      <td>2530.0</td>\n",
       "      <td>2550.0</td>\n",
       "    </tr>\n",
       "    <tr>\n",
       "      <th>5465</th>\n",
       "      <td>0.524609</td>\n",
       "      <td>1.367421</td>\n",
       "      <td>1.037927</td>\n",
       "      <td>2470.0</td>\n",
       "      <td>2490.0</td>\n",
       "      <td>2530.0</td>\n",
       "    </tr>\n",
       "  </tbody>\n",
       "</table>\n",
       "<p>1090 rows × 6 columns</p>\n",
       "</div>"
      ],
      "text/plain": [
       "      P_lag_time_1  P_lag_time_2  P_lag_time_3  Q_lag_time_1  Q_lag_time_2  \\\n",
       "4376      0.488605      1.240209      2.199107        2710.0        2780.0   \n",
       "4377      0.179818      0.488605      1.240209        2540.0        2710.0   \n",
       "4378      0.200976      0.179818      0.488605        2490.0        2540.0   \n",
       "4379      0.138875      0.200976      0.179818        2470.0        2490.0   \n",
       "4380      0.155483      0.138875      0.200976        2460.0        2470.0   \n",
       "...            ...           ...           ...           ...           ...   \n",
       "5461      0.535394      0.504948      0.464211        2580.0        2600.0   \n",
       "5462      0.863708      0.535394      0.504948        2550.0        2580.0   \n",
       "5463      1.037927      0.863708      0.535394        2530.0        2550.0   \n",
       "5464      1.367421      1.037927      0.863708        2490.0        2530.0   \n",
       "5465      0.524609      1.367421      1.037927        2470.0        2490.0   \n",
       "\n",
       "      Q_lag_time_3  \n",
       "4376        2810.0  \n",
       "4377        2780.0  \n",
       "4378        2710.0  \n",
       "4379        2540.0  \n",
       "4380        2490.0  \n",
       "...            ...  \n",
       "5461        2630.0  \n",
       "5462        2600.0  \n",
       "5463        2580.0  \n",
       "5464        2550.0  \n",
       "5465        2530.0  \n",
       "\n",
       "[1090 rows x 6 columns]"
      ]
     },
     "execution_count": 22,
     "metadata": {},
     "output_type": "execute_result"
    }
   ],
   "source": [
    "mo_test_x"
   ]
  },
  {
   "cell_type": "code",
   "execution_count": 26,
   "id": "f7b0d69f",
   "metadata": {},
   "outputs": [
    {
     "data": {
      "text/plain": [
       "['mo_station_518.pkl']"
      ]
     },
     "execution_count": 26,
     "metadata": {},
     "output_type": "execute_result"
    }
   ],
   "source": [
    "import joblib\n",
    "station_model_name = \"mo_station_518.pkl\"\n",
    "\n",
    "joblib.dump( multioutputregressor, station_model_name )"
   ]
  },
  {
   "cell_type": "code",
   "execution_count": 28,
   "id": "a3b35f12",
   "metadata": {},
   "outputs": [
    {
     "data": {
      "text/plain": [
       "array([[ 879.86,  889.4 ,  908.11,  955.46,  973.27, 1036.01, 1041.62,\n",
       "        1069.79, 1088.86, 1111.55, 1162.48, 1178.34, 1174.13, 1195.35]])"
      ]
     },
     "execution_count": 28,
     "metadata": {},
     "output_type": "execute_result"
    }
   ],
   "source": [
    "import joblib\n",
    "\n",
    "\n",
    "station_model_name = \"mo_station_518.pkl\"\n",
    "mo_regressor = joblib.load( station_model_name ) \n",
    "\n",
    "test_df  = pd.DataFrame( [{\n",
    "    \"P_lag_time_1\": 2.372996,\n",
    "    \"P_lag_time_2\": 9.947697,\n",
    "    \"P_lag_time_3\": 0.009867,\n",
    "    \"Q_lag_time_1\": 68.500000,\n",
    "    \"Q_lag_time_2\": 79.199997,\n",
    "    \"Q_lag_time_3\": 76.800003,\n",
    "    \n",
    "}])\n",
    "\n",
    "mo_regressor.predict(test_df)"
   ]
  },
  {
   "cell_type": "code",
   "execution_count": null,
   "id": "676a31ca",
   "metadata": {},
   "outputs": [],
   "source": []
  }
 ],
 "metadata": {
  "kernelspec": {
   "display_name": "Python 3 (ipykernel)",
   "language": "python",
   "name": "python3"
  },
  "language_info": {
   "codemirror_mode": {
    "name": "ipython",
    "version": 3
   },
   "file_extension": ".py",
   "mimetype": "text/x-python",
   "name": "python",
   "nbconvert_exporter": "python",
   "pygments_lexer": "ipython3",
   "version": "3.10.13"
  }
 },
 "nbformat": 4,
 "nbformat_minor": 5
}
